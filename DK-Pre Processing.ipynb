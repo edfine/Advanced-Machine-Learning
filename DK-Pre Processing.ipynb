{
 "cells": [
  {
   "cell_type": "code",
   "execution_count": 2,
   "metadata": {},
   "outputs": [],
   "source": [
    "import numpy as np\n",
    "import pandas as pd"
   ]
  },
  {
   "cell_type": "code",
   "execution_count": 3,
   "metadata": {},
   "outputs": [
    {
     "data": {
      "text/html": [
       "<div>\n",
       "<style scoped>\n",
       "    .dataframe tbody tr th:only-of-type {\n",
       "        vertical-align: middle;\n",
       "    }\n",
       "\n",
       "    .dataframe tbody tr th {\n",
       "        vertical-align: top;\n",
       "    }\n",
       "\n",
       "    .dataframe thead th {\n",
       "        text-align: right;\n",
       "    }\n",
       "</style>\n",
       "<table border=\"1\" class=\"dataframe\">\n",
       "  <thead>\n",
       "    <tr style=\"text-align: right;\">\n",
       "      <th></th>\n",
       "      <th>Id</th>\n",
       "      <th>Country</th>\n",
       "      <th>Age</th>\n",
       "      <th>Insurance</th>\n",
       "    </tr>\n",
       "  </thead>\n",
       "  <tbody>\n",
       "    <tr>\n",
       "      <th>0</th>\n",
       "      <td>1</td>\n",
       "      <td>China</td>\n",
       "      <td>30.0</td>\n",
       "      <td>10500.0</td>\n",
       "    </tr>\n",
       "    <tr>\n",
       "      <th>1</th>\n",
       "      <td>2</td>\n",
       "      <td>India</td>\n",
       "      <td>31.0</td>\n",
       "      <td>NaN</td>\n",
       "    </tr>\n",
       "    <tr>\n",
       "      <th>2</th>\n",
       "      <td>3</td>\n",
       "      <td>Poland</td>\n",
       "      <td>30.0</td>\n",
       "      <td>15000.0</td>\n",
       "    </tr>\n",
       "    <tr>\n",
       "      <th>3</th>\n",
       "      <td>4</td>\n",
       "      <td>China</td>\n",
       "      <td>NaN</td>\n",
       "      <td>16000.0</td>\n",
       "    </tr>\n",
       "    <tr>\n",
       "      <th>4</th>\n",
       "      <td>5</td>\n",
       "      <td>India</td>\n",
       "      <td>30.0</td>\n",
       "      <td>17000.0</td>\n",
       "    </tr>\n",
       "  </tbody>\n",
       "</table>\n",
       "</div>"
      ],
      "text/plain": [
       "   Id Country   Age  Insurance\n",
       "0   1   China  30.0    10500.0\n",
       "1   2   India  31.0        NaN\n",
       "2   3  Poland  30.0    15000.0\n",
       "3   4   China   NaN    16000.0\n",
       "4   5   India  30.0    17000.0"
      ]
     },
     "execution_count": 3,
     "metadata": {},
     "output_type": "execute_result"
    }
   ],
   "source": [
    "dataset = pd.read_csv('pre-data.csv')\n",
    "dataset.head()"
   ]
  },
  {
   "cell_type": "markdown",
   "metadata": {},
   "source": [
    "# Missing Data Handling – Pre Processing"
   ]
  },
  {
   "cell_type": "code",
   "execution_count": 4,
   "metadata": {},
   "outputs": [],
   "source": [
    "X = dataset.iloc[:,2:4].values #Takes all rows of all columns "
   ]
  },
  {
   "cell_type": "code",
   "execution_count": 5,
   "metadata": {},
   "outputs": [],
   "source": [
    "from sklearn.impute import SimpleImputer\n",
    "imp = SimpleImputer(missing_values=np.nan, strategy=\"mean\")\n",
    "X = imp.fit_transform(X)"
   ]
  },
  {
   "cell_type": "code",
   "execution_count": 6,
   "metadata": {},
   "outputs": [
    {
     "data": {
      "text/plain": [
       "array([[   30.        , 10500.        ],\n",
       "       [   31.        , 12255.55555556],\n",
       "       [   30.        , 15000.        ],\n",
       "       [   30.26829268, 16000.        ],\n",
       "       [   30.        , 17000.        ],\n",
       "       [   34.        , 19000.        ],\n",
       "       [   30.        , 20000.        ],\n",
       "       [   30.        , 19000.        ],\n",
       "       [   30.        , 14000.        ],\n",
       "       [   38.        , 10000.        ],\n",
       "       [   28.        , 12255.55555556],\n",
       "       [   30.        , 10000.        ],\n",
       "       [   30.        , 16000.        ],\n",
       "       [   30.        , 10000.        ],\n",
       "       [   30.        , 18000.        ],\n",
       "       [   30.        , 10000.        ],\n",
       "       [   30.26829268, 10000.        ],\n",
       "       [   30.        , 16000.        ],\n",
       "       [   30.        , 10000.        ],\n",
       "       [   30.        , 13000.        ],\n",
       "       [   30.        , 10000.        ],\n",
       "       [   30.        , 13000.        ],\n",
       "       [   30.        , 10000.        ],\n",
       "       [   30.        , 14000.        ],\n",
       "       [   30.26829268, 10000.        ],\n",
       "       [   30.        , 10000.        ],\n",
       "       [   30.        , 12000.        ],\n",
       "       [   30.        , 11000.        ],\n",
       "       [   30.        , 12255.55555556],\n",
       "       [   30.        , 10000.        ],\n",
       "       [   30.        , 15000.        ],\n",
       "       [   30.        , 10000.        ],\n",
       "       [   30.        , 10000.        ],\n",
       "       [   30.        , 15000.        ],\n",
       "       [   30.26829268, 10000.        ],\n",
       "       [   30.        , 10000.        ],\n",
       "       [   30.26829268, 10000.        ],\n",
       "       [   30.        , 10000.        ],\n",
       "       [   30.        , 10000.        ],\n",
       "       [   30.        , 10000.        ],\n",
       "       [   30.        , 12255.55555556],\n",
       "       [   30.        , 10000.        ],\n",
       "       [   30.        , 10000.        ],\n",
       "       [   30.        , 15000.        ],\n",
       "       [   30.        , 10000.        ],\n",
       "       [   30.        , 10000.        ],\n",
       "       [   30.26829268, 11000.        ],\n",
       "       [   30.26829268, 11000.        ],\n",
       "       [   30.26829268, 11000.        ]])"
      ]
     },
     "execution_count": 6,
     "metadata": {},
     "output_type": "execute_result"
    }
   ],
   "source": [
    "X"
   ]
  },
  {
   "cell_type": "markdown",
   "metadata": {},
   "source": [
    "# Categorical Data Handling – Pre Processing"
   ]
  },
  {
   "cell_type": "code",
   "execution_count": 17,
   "metadata": {},
   "outputs": [],
   "source": [
    "# Using one hot encoding we will create a dummy variable for each of the category in the column."
   ]
  },
  {
   "cell_type": "code",
   "execution_count": 7,
   "metadata": {},
   "outputs": [],
   "source": [
    "from sklearn.preprocessing import LabelEncoder,OneHotEncoder"
   ]
  },
  {
   "cell_type": "code",
   "execution_count": 8,
   "metadata": {},
   "outputs": [],
   "source": [
    "lab_enc = LabelEncoder()\n",
    "X = dataset.iloc[:,1:2].values"
   ]
  },
  {
   "cell_type": "code",
   "execution_count": 9,
   "metadata": {},
   "outputs": [],
   "source": [
    "X[:,0]= lab_enc.fit_transform(X[:,0])"
   ]
  },
  {
   "cell_type": "code",
   "execution_count": 10,
   "metadata": {},
   "outputs": [],
   "source": [
    "oh_enc = OneHotEncoder(categorical_features = [0])"
   ]
  },
  {
   "cell_type": "code",
   "execution_count": 11,
   "metadata": {},
   "outputs": [
    {
     "name": "stderr",
     "output_type": "stream",
     "text": [
      "d:\\pdocs\\9_upwork\\steven_video\\venv\\lib\\site-packages\\sklearn\\preprocessing\\_encoders.py:368: FutureWarning: The handling of integer data will change in version 0.22. Currently, the categories are determined based on the range [0, max(values)], while in the future they will be determined based on the unique values.\n",
      "If you want the future behaviour and silence this warning, you can specify \"categories='auto'\".\n",
      "In case you used a LabelEncoder before this OneHotEncoder to convert the categories to integers, then you can now use the OneHotEncoder directly.\n",
      "  warnings.warn(msg, FutureWarning)\n",
      "d:\\pdocs\\9_upwork\\steven_video\\venv\\lib\\site-packages\\sklearn\\preprocessing\\_encoders.py:390: DeprecationWarning: The 'categorical_features' keyword is deprecated in version 0.20 and will be removed in 0.22. You can use the ColumnTransformer instead.\n",
      "  \"use the ColumnTransformer instead.\", DeprecationWarning)\n"
     ]
    },
    {
     "data": {
      "text/plain": [
       "array([[1., 0., 0.],\n",
       "       [0., 1., 0.],\n",
       "       [0., 0., 1.],\n",
       "       [1., 0., 0.],\n",
       "       [0., 1., 0.],\n",
       "       [1., 0., 0.],\n",
       "       [1., 0., 0.],\n",
       "       [0., 0., 1.],\n",
       "       [1., 0., 0.],\n",
       "       [0., 1., 0.],\n",
       "       [1., 0., 0.],\n",
       "       [0., 0., 1.],\n",
       "       [0., 1., 0.],\n",
       "       [1., 0., 0.],\n",
       "       [0., 1., 0.],\n",
       "       [0., 0., 1.],\n",
       "       [0., 1., 0.],\n",
       "       [1., 0., 0.],\n",
       "       [1., 0., 0.],\n",
       "       [0., 0., 1.],\n",
       "       [0., 1., 0.],\n",
       "       [0., 1., 0.],\n",
       "       [0., 0., 1.],\n",
       "       [0., 1., 0.],\n",
       "       [0., 0., 1.],\n",
       "       [0., 0., 1.],\n",
       "       [0., 0., 1.],\n",
       "       [0., 1., 0.],\n",
       "       [0., 0., 1.],\n",
       "       [0., 1., 0.],\n",
       "       [0., 0., 1.],\n",
       "       [0., 1., 0.],\n",
       "       [0., 1., 0.],\n",
       "       [0., 0., 1.],\n",
       "       [0., 1., 0.],\n",
       "       [0., 1., 0.],\n",
       "       [0., 0., 1.],\n",
       "       [0., 0., 1.],\n",
       "       [0., 0., 1.],\n",
       "       [0., 1., 0.],\n",
       "       [0., 0., 1.],\n",
       "       [0., 1., 0.],\n",
       "       [0., 0., 1.],\n",
       "       [0., 1., 0.],\n",
       "       [0., 1., 0.],\n",
       "       [0., 0., 1.],\n",
       "       [0., 1., 0.],\n",
       "       [0., 1., 0.],\n",
       "       [0., 1., 0.]])"
      ]
     },
     "execution_count": 11,
     "metadata": {},
     "output_type": "execute_result"
    }
   ],
   "source": [
    "X = oh_enc.fit_transform(X).toarray()\n",
    "X"
   ]
  },
  {
   "cell_type": "code",
   "execution_count": 43,
   "metadata": {},
   "outputs": [],
   "source": [
    "#The the above 3 columns are the dummy features representing China,India and Poland respectively.\n",
    "#The 1’s in these columns indicate that the person belongs to that country."
   ]
  },
  {
   "cell_type": "markdown",
   "metadata": {},
   "source": [
    "# Splitting into Train and Test set"
   ]
  },
  {
   "cell_type": "code",
   "execution_count": 12,
   "metadata": {},
   "outputs": [],
   "source": [
    "from sklearn.model_selection import train_test_split"
   ]
  },
  {
   "cell_type": "code",
   "execution_count": 13,
   "metadata": {},
   "outputs": [],
   "source": [
    "X = dataset.iloc[:,:-1].values #Takes all rows of all columns except the last column\n",
    "Y = dataset.iloc[:,-1].values # Takes all rows of the last column"
   ]
  },
  {
   "cell_type": "code",
   "execution_count": 16,
   "metadata": {},
   "outputs": [],
   "source": [
    "X_train, X_test, Y_train, Y_test = train_test_split(X, Y, test_size = 0.3, random_state = 0)"
   ]
  },
  {
   "cell_type": "code",
   "execution_count": 17,
   "metadata": {},
   "outputs": [
    {
     "data": {
      "text/plain": [
       "(34, 34)"
      ]
     },
     "execution_count": 17,
     "metadata": {},
     "output_type": "execute_result"
    }
   ],
   "source": [
    "len(X_train),len(Y_train)"
   ]
  },
  {
   "cell_type": "code",
   "execution_count": null,
   "metadata": {},
   "outputs": [],
   "source": []
  },
  {
   "cell_type": "code",
   "execution_count": 18,
   "metadata": {},
   "outputs": [
    {
     "data": {
      "text/plain": [
       "(15, 15)"
      ]
     },
     "execution_count": 18,
     "metadata": {},
     "output_type": "execute_result"
    }
   ],
   "source": [
    "len(X_test),len(Y_test)"
   ]
  },
  {
   "cell_type": "markdown",
   "metadata": {},
   "source": [
    "# Feature Scaling – Pre Processing"
   ]
  },
  {
   "cell_type": "code",
   "execution_count": 53,
   "metadata": {},
   "outputs": [],
   "source": [
    "from sklearn.preprocessing import StandardScaler"
   ]
  },
  {
   "cell_type": "code",
   "execution_count": 56,
   "metadata": {},
   "outputs": [
    {
     "data": {
      "text/plain": [
       "array([[   30., 10500.],\n",
       "       [   31.,    nan],\n",
       "       [   30., 15000.],\n",
       "       [   nan, 16000.],\n",
       "       [   30., 17000.],\n",
       "       [   34., 19000.],\n",
       "       [   30., 20000.],\n",
       "       [   30., 19000.],\n",
       "       [   30., 14000.],\n",
       "       [   38., 10000.],\n",
       "       [   28.,    nan],\n",
       "       [   30., 10000.],\n",
       "       [   30., 16000.],\n",
       "       [   30., 10000.],\n",
       "       [   30., 18000.],\n",
       "       [   30., 10000.],\n",
       "       [   nan, 10000.],\n",
       "       [   30., 16000.],\n",
       "       [   30., 10000.],\n",
       "       [   30., 13000.],\n",
       "       [   30., 10000.],\n",
       "       [   30., 13000.],\n",
       "       [   30., 10000.],\n",
       "       [   30., 14000.],\n",
       "       [   nan, 10000.],\n",
       "       [   30., 10000.],\n",
       "       [   30., 12000.],\n",
       "       [   30., 11000.],\n",
       "       [   30.,    nan],\n",
       "       [   30., 10000.],\n",
       "       [   30., 15000.],\n",
       "       [   30., 10000.],\n",
       "       [   30., 10000.],\n",
       "       [   30., 15000.],\n",
       "       [   nan, 10000.],\n",
       "       [   30., 10000.],\n",
       "       [   nan, 10000.],\n",
       "       [   30., 10000.],\n",
       "       [   30., 10000.],\n",
       "       [   30., 10000.],\n",
       "       [   30.,    nan],\n",
       "       [   30., 10000.],\n",
       "       [   30., 10000.],\n",
       "       [   30., 15000.],\n",
       "       [   30., 10000.],\n",
       "       [   30., 10000.],\n",
       "       [   nan, 11000.],\n",
       "       [   nan, 11000.],\n",
       "       [   nan, 11000.]])"
      ]
     },
     "execution_count": 56,
     "metadata": {},
     "output_type": "execute_result"
    }
   ],
   "source": [
    "X_sc = dataset.iloc[:,2:4].values\n",
    "X_sc"
   ]
  },
  {
   "cell_type": "code",
   "execution_count": 57,
   "metadata": {},
   "outputs": [
    {
     "data": {
      "text/plain": [
       "array([[-0.18965517, -0.57997372],\n",
       "       [ 0.51724138,         nan],\n",
       "       [-0.18965517,  0.90666778],\n",
       "       [        nan,  1.23703255],\n",
       "       [-0.18965517,  1.56739733],\n",
       "       [ 2.63793103,  2.22812689],\n",
       "       [-0.18965517,  2.55849166],\n",
       "       [-0.18965517,  2.22812689],\n",
       "       [-0.18965517,  0.576303  ],\n",
       "       [ 5.46551724, -0.74515611],\n",
       "       [-1.60344828,         nan],\n",
       "       [-0.18965517, -0.74515611],\n",
       "       [-0.18965517,  1.23703255],\n",
       "       [-0.18965517, -0.74515611],\n",
       "       [-0.18965517,  1.89776211],\n",
       "       [-0.18965517, -0.74515611],\n",
       "       [        nan, -0.74515611],\n",
       "       [-0.18965517,  1.23703255],\n",
       "       [-0.18965517, -0.74515611],\n",
       "       [-0.18965517,  0.24593822],\n",
       "       [-0.18965517, -0.74515611],\n",
       "       [-0.18965517,  0.24593822],\n",
       "       [-0.18965517, -0.74515611],\n",
       "       [-0.18965517,  0.576303  ],\n",
       "       [        nan, -0.74515611],\n",
       "       [-0.18965517, -0.74515611],\n",
       "       [-0.18965517, -0.08442655],\n",
       "       [-0.18965517, -0.41479133],\n",
       "       [-0.18965517,         nan],\n",
       "       [-0.18965517, -0.74515611],\n",
       "       [-0.18965517,  0.90666778],\n",
       "       [-0.18965517, -0.74515611],\n",
       "       [-0.18965517, -0.74515611],\n",
       "       [-0.18965517,  0.90666778],\n",
       "       [        nan, -0.74515611],\n",
       "       [-0.18965517, -0.74515611],\n",
       "       [        nan, -0.74515611],\n",
       "       [-0.18965517, -0.74515611],\n",
       "       [-0.18965517, -0.74515611],\n",
       "       [-0.18965517, -0.74515611],\n",
       "       [-0.18965517,         nan],\n",
       "       [-0.18965517, -0.74515611],\n",
       "       [-0.18965517, -0.74515611],\n",
       "       [-0.18965517,  0.90666778],\n",
       "       [-0.18965517, -0.74515611],\n",
       "       [-0.18965517, -0.74515611],\n",
       "       [        nan, -0.41479133],\n",
       "       [        nan, -0.41479133],\n",
       "       [        nan, -0.41479133]])"
      ]
     },
     "execution_count": 57,
     "metadata": {},
     "output_type": "execute_result"
    }
   ],
   "source": [
    "sc_ex = StandardScaler()\n",
    "X_scaled = sc_ex.fit_transform(X_sc)\n",
    "X_scaled"
   ]
  },
  {
   "cell_type": "code",
   "execution_count": null,
   "metadata": {},
   "outputs": [],
   "source": []
  }
 ],
 "metadata": {
  "kernelspec": {
   "display_name": "Python 3",
   "language": "python",
   "name": "python3"
  },
  "language_info": {
   "codemirror_mode": {
    "name": "ipython",
    "version": 3
   },
   "file_extension": ".py",
   "mimetype": "text/x-python",
   "name": "python",
   "nbconvert_exporter": "python",
   "pygments_lexer": "ipython3",
   "version": "3.6.6"
  }
 },
 "nbformat": 4,
 "nbformat_minor": 2
}
